{
  "nbformat": 4,
  "nbformat_minor": 0,
  "metadata": {
    "colab": {
      "provenance": [],
      "authorship_tag": "ABX9TyNfX94bDD+rzWAKNQxJM1qD",
      "include_colab_link": true
    },
    "kernelspec": {
      "name": "python3",
      "display_name": "Python 3"
    },
    "language_info": {
      "name": "python"
    }
  },
  "cells": [
    {
      "cell_type": "markdown",
      "metadata": {
        "id": "view-in-github",
        "colab_type": "text"
      },
      "source": [
        "<a href=\"https://colab.research.google.com/github/YASWANTH1910/Crowdfunding-Analysis/blob/main/Copy_of_Crowdfunding_Analysis.ipynb\" target=\"_parent\"><img src=\"https://colab.research.google.com/assets/colab-badge.svg\" alt=\"Open In Colab\"/></a>"
      ]
    },
    {
      "cell_type": "code",
      "source": [
        "import numpy as np\n",
        "import pandas as pd\n",
        "import matplotlib.pyplot as plt\n",
        "import seaborn as sns\n",
        "import os"
      ],
      "metadata": {
        "id": "Xi4eEPclT1z2"
      },
      "execution_count": null,
      "outputs": []
    },
    {
      "cell_type": "code",
      "source": [
        "os.listdir()"
      ],
      "metadata": {
        "colab": {
          "base_uri": "https://localhost:8080/"
        },
        "id": "dENmmVCC8dEx",
        "outputId": "f7986075-ec37-4da2-c215-a5f3346afbc4"
      },
      "execution_count": null,
      "outputs": [
        {
          "output_type": "execute_result",
          "data": {
            "text/plain": [
              "['.config', 'sample_data']"
            ]
          },
          "metadata": {},
          "execution_count": 2
        }
      ]
    },
    {
      "cell_type": "code",
      "source": [
        "df = pd.read_excel('/content/sample_data/Crowdfunding_projects_1.xlsx')"
      ],
      "metadata": {
        "id": "GJU3dRQa8c2_"
      },
      "execution_count": null,
      "outputs": []
    },
    {
      "cell_type": "code",
      "source": [
        "df.shape"
      ],
      "metadata": {
        "colab": {
          "base_uri": "https://localhost:8080/"
        },
        "id": "zz6kzA_Yv3To",
        "outputId": "4ddd1926-006b-4978-9c76-727a4876e8f1"
      },
      "execution_count": null,
      "outputs": [
        {
          "output_type": "execute_result",
          "data": {
            "text/plain": [
              "(365892, 25)"
            ]
          },
          "metadata": {},
          "execution_count": 4
        }
      ]
    },
    {
      "cell_type": "code",
      "source": [
        "df.head()"
      ],
      "metadata": {
        "colab": {
          "base_uri": "https://localhost:8080/",
          "height": 620
        },
        "id": "OHtm5o15v3N9",
        "outputId": "93695e95-f04b-4d6e-bc34-382ebc455125"
      },
      "execution_count": null,
      "outputs": [
        {
          "output_type": "execute_result",
          "data": {
            "text/plain": [
              "         id   state                                               name  \\\n",
              "0  24080365  failed                           Feature Film: The Wolfes   \n",
              "1  27131878  failed                                        BarBQ 4REAL   \n",
              "2  30525634  failed                                 Down on the Street   \n",
              "3  31977817  failed  Descent into Madness-Stream of Conscious Endur...   \n",
              "4  33517733  failed    Help us add more content and deliver it faster!   \n",
              "\n",
              "  country  creator_id  location_id  category_id  created_at    deadline  \\\n",
              "0      US  1439247114    2488042.0          293  1485972639  1488571200   \n",
              "1      US   680525996    2466256.0           10  1427846948  1430507319   \n",
              "2      US   222229854    2458410.0          276  1457479696  1460073915   \n",
              "3      US  1978657574    2523194.0           48  1343252842  1346342564   \n",
              "4      US  1016683395    2433227.0           18  1427808214  1428676182   \n",
              "\n",
              "   updated_at  ...  currency  currency_symbol  usd_pledged  static_usd_rate  \\\n",
              "0  1488571201  ...       USD                $          0.0              1.0   \n",
              "1  1430507320  ...       USD                $          0.0              1.0   \n",
              "2  1460073915  ...       USD                $          0.0              1.0   \n",
              "3  1397791317  ...       USD                $          0.0              1.0   \n",
              "4  1428676219  ...       USD                $          0.0              1.0   \n",
              "\n",
              "   backers_count spotlight staff_pick  \\\n",
              "0              0         0          0   \n",
              "1              0         0          0   \n",
              "2              0         0          0   \n",
              "3              0         0          0   \n",
              "4              0         0          0   \n",
              "\n",
              "                                               blurb  currency_trailing_code  \\\n",
              "0  My film is about a boy who discovers the truth...                       1   \n",
              "1                            #Try our BBQ It's 4REAL                       1   \n",
              "2  Welcome to Down on the Street. A proposed exhi...                       1   \n",
              "3  Endurance writing for 72 hours, watch an autho...                       1   \n",
              "4  We need to upgrade our technology to create a ...                       1   \n",
              "\n",
              "   disable_communication  \n",
              "0                      0  \n",
              "1                      0  \n",
              "2                      0  \n",
              "3                      0  \n",
              "4                      0  \n",
              "\n",
              "[5 rows x 25 columns]"
            ],
            "text/html": [
              "\n",
              "  <div id=\"df-79e1a365-6b07-46b7-9a40-92ef10b77b02\" class=\"colab-df-container\">\n",
              "    <div>\n",
              "<style scoped>\n",
              "    .dataframe tbody tr th:only-of-type {\n",
              "        vertical-align: middle;\n",
              "    }\n",
              "\n",
              "    .dataframe tbody tr th {\n",
              "        vertical-align: top;\n",
              "    }\n",
              "\n",
              "    .dataframe thead th {\n",
              "        text-align: right;\n",
              "    }\n",
              "</style>\n",
              "<table border=\"1\" class=\"dataframe\">\n",
              "  <thead>\n",
              "    <tr style=\"text-align: right;\">\n",
              "      <th></th>\n",
              "      <th>id</th>\n",
              "      <th>state</th>\n",
              "      <th>name</th>\n",
              "      <th>country</th>\n",
              "      <th>creator_id</th>\n",
              "      <th>location_id</th>\n",
              "      <th>category_id</th>\n",
              "      <th>created_at</th>\n",
              "      <th>deadline</th>\n",
              "      <th>updated_at</th>\n",
              "      <th>...</th>\n",
              "      <th>currency</th>\n",
              "      <th>currency_symbol</th>\n",
              "      <th>usd_pledged</th>\n",
              "      <th>static_usd_rate</th>\n",
              "      <th>backers_count</th>\n",
              "      <th>spotlight</th>\n",
              "      <th>staff_pick</th>\n",
              "      <th>blurb</th>\n",
              "      <th>currency_trailing_code</th>\n",
              "      <th>disable_communication</th>\n",
              "    </tr>\n",
              "  </thead>\n",
              "  <tbody>\n",
              "    <tr>\n",
              "      <th>0</th>\n",
              "      <td>24080365</td>\n",
              "      <td>failed</td>\n",
              "      <td>Feature Film: The Wolfes</td>\n",
              "      <td>US</td>\n",
              "      <td>1439247114</td>\n",
              "      <td>2488042.0</td>\n",
              "      <td>293</td>\n",
              "      <td>1485972639</td>\n",
              "      <td>1488571200</td>\n",
              "      <td>1488571201</td>\n",
              "      <td>...</td>\n",
              "      <td>USD</td>\n",
              "      <td>$</td>\n",
              "      <td>0.0</td>\n",
              "      <td>1.0</td>\n",
              "      <td>0</td>\n",
              "      <td>0</td>\n",
              "      <td>0</td>\n",
              "      <td>My film is about a boy who discovers the truth...</td>\n",
              "      <td>1</td>\n",
              "      <td>0</td>\n",
              "    </tr>\n",
              "    <tr>\n",
              "      <th>1</th>\n",
              "      <td>27131878</td>\n",
              "      <td>failed</td>\n",
              "      <td>BarBQ 4REAL</td>\n",
              "      <td>US</td>\n",
              "      <td>680525996</td>\n",
              "      <td>2466256.0</td>\n",
              "      <td>10</td>\n",
              "      <td>1427846948</td>\n",
              "      <td>1430507319</td>\n",
              "      <td>1430507320</td>\n",
              "      <td>...</td>\n",
              "      <td>USD</td>\n",
              "      <td>$</td>\n",
              "      <td>0.0</td>\n",
              "      <td>1.0</td>\n",
              "      <td>0</td>\n",
              "      <td>0</td>\n",
              "      <td>0</td>\n",
              "      <td>#Try our BBQ It's 4REAL</td>\n",
              "      <td>1</td>\n",
              "      <td>0</td>\n",
              "    </tr>\n",
              "    <tr>\n",
              "      <th>2</th>\n",
              "      <td>30525634</td>\n",
              "      <td>failed</td>\n",
              "      <td>Down on the Street</td>\n",
              "      <td>US</td>\n",
              "      <td>222229854</td>\n",
              "      <td>2458410.0</td>\n",
              "      <td>276</td>\n",
              "      <td>1457479696</td>\n",
              "      <td>1460073915</td>\n",
              "      <td>1460073915</td>\n",
              "      <td>...</td>\n",
              "      <td>USD</td>\n",
              "      <td>$</td>\n",
              "      <td>0.0</td>\n",
              "      <td>1.0</td>\n",
              "      <td>0</td>\n",
              "      <td>0</td>\n",
              "      <td>0</td>\n",
              "      <td>Welcome to Down on the Street. A proposed exhi...</td>\n",
              "      <td>1</td>\n",
              "      <td>0</td>\n",
              "    </tr>\n",
              "    <tr>\n",
              "      <th>3</th>\n",
              "      <td>31977817</td>\n",
              "      <td>failed</td>\n",
              "      <td>Descent into Madness-Stream of Conscious Endur...</td>\n",
              "      <td>US</td>\n",
              "      <td>1978657574</td>\n",
              "      <td>2523194.0</td>\n",
              "      <td>48</td>\n",
              "      <td>1343252842</td>\n",
              "      <td>1346342564</td>\n",
              "      <td>1397791317</td>\n",
              "      <td>...</td>\n",
              "      <td>USD</td>\n",
              "      <td>$</td>\n",
              "      <td>0.0</td>\n",
              "      <td>1.0</td>\n",
              "      <td>0</td>\n",
              "      <td>0</td>\n",
              "      <td>0</td>\n",
              "      <td>Endurance writing for 72 hours, watch an autho...</td>\n",
              "      <td>1</td>\n",
              "      <td>0</td>\n",
              "    </tr>\n",
              "    <tr>\n",
              "      <th>4</th>\n",
              "      <td>33517733</td>\n",
              "      <td>failed</td>\n",
              "      <td>Help us add more content and deliver it faster!</td>\n",
              "      <td>US</td>\n",
              "      <td>1016683395</td>\n",
              "      <td>2433227.0</td>\n",
              "      <td>18</td>\n",
              "      <td>1427808214</td>\n",
              "      <td>1428676182</td>\n",
              "      <td>1428676219</td>\n",
              "      <td>...</td>\n",
              "      <td>USD</td>\n",
              "      <td>$</td>\n",
              "      <td>0.0</td>\n",
              "      <td>1.0</td>\n",
              "      <td>0</td>\n",
              "      <td>0</td>\n",
              "      <td>0</td>\n",
              "      <td>We need to upgrade our technology to create a ...</td>\n",
              "      <td>1</td>\n",
              "      <td>0</td>\n",
              "    </tr>\n",
              "  </tbody>\n",
              "</table>\n",
              "<p>5 rows × 25 columns</p>\n",
              "</div>\n",
              "    <div class=\"colab-df-buttons\">\n",
              "\n",
              "  <div class=\"colab-df-container\">\n",
              "    <button class=\"colab-df-convert\" onclick=\"convertToInteractive('df-79e1a365-6b07-46b7-9a40-92ef10b77b02')\"\n",
              "            title=\"Convert this dataframe to an interactive table.\"\n",
              "            style=\"display:none;\">\n",
              "\n",
              "  <svg xmlns=\"http://www.w3.org/2000/svg\" height=\"24px\" viewBox=\"0 -960 960 960\">\n",
              "    <path d=\"M120-120v-720h720v720H120Zm60-500h600v-160H180v160Zm220 220h160v-160H400v160Zm0 220h160v-160H400v160ZM180-400h160v-160H180v160Zm440 0h160v-160H620v160ZM180-180h160v-160H180v160Zm440 0h160v-160H620v160Z\"/>\n",
              "  </svg>\n",
              "    </button>\n",
              "\n",
              "  <style>\n",
              "    .colab-df-container {\n",
              "      display:flex;\n",
              "      gap: 12px;\n",
              "    }\n",
              "\n",
              "    .colab-df-convert {\n",
              "      background-color: #E8F0FE;\n",
              "      border: none;\n",
              "      border-radius: 50%;\n",
              "      cursor: pointer;\n",
              "      display: none;\n",
              "      fill: #1967D2;\n",
              "      height: 32px;\n",
              "      padding: 0 0 0 0;\n",
              "      width: 32px;\n",
              "    }\n",
              "\n",
              "    .colab-df-convert:hover {\n",
              "      background-color: #E2EBFA;\n",
              "      box-shadow: 0px 1px 2px rgba(60, 64, 67, 0.3), 0px 1px 3px 1px rgba(60, 64, 67, 0.15);\n",
              "      fill: #174EA6;\n",
              "    }\n",
              "\n",
              "    .colab-df-buttons div {\n",
              "      margin-bottom: 4px;\n",
              "    }\n",
              "\n",
              "    [theme=dark] .colab-df-convert {\n",
              "      background-color: #3B4455;\n",
              "      fill: #D2E3FC;\n",
              "    }\n",
              "\n",
              "    [theme=dark] .colab-df-convert:hover {\n",
              "      background-color: #434B5C;\n",
              "      box-shadow: 0px 1px 3px 1px rgba(0, 0, 0, 0.15);\n",
              "      filter: drop-shadow(0px 1px 2px rgba(0, 0, 0, 0.3));\n",
              "      fill: #FFFFFF;\n",
              "    }\n",
              "  </style>\n",
              "\n",
              "    <script>\n",
              "      const buttonEl =\n",
              "        document.querySelector('#df-79e1a365-6b07-46b7-9a40-92ef10b77b02 button.colab-df-convert');\n",
              "      buttonEl.style.display =\n",
              "        google.colab.kernel.accessAllowed ? 'block' : 'none';\n",
              "\n",
              "      async function convertToInteractive(key) {\n",
              "        const element = document.querySelector('#df-79e1a365-6b07-46b7-9a40-92ef10b77b02');\n",
              "        const dataTable =\n",
              "          await google.colab.kernel.invokeFunction('convertToInteractive',\n",
              "                                                    [key], {});\n",
              "        if (!dataTable) return;\n",
              "\n",
              "        const docLinkHtml = 'Like what you see? Visit the ' +\n",
              "          '<a target=\"_blank\" href=https://colab.research.google.com/notebooks/data_table.ipynb>data table notebook</a>'\n",
              "          + ' to learn more about interactive tables.';\n",
              "        element.innerHTML = '';\n",
              "        dataTable['output_type'] = 'display_data';\n",
              "        await google.colab.output.renderOutput(dataTable, element);\n",
              "        const docLink = document.createElement('div');\n",
              "        docLink.innerHTML = docLinkHtml;\n",
              "        element.appendChild(docLink);\n",
              "      }\n",
              "    </script>\n",
              "  </div>\n",
              "\n",
              "\n",
              "<div id=\"df-0c0e0af2-9a64-44cf-8ac2-d95fdb5b5de1\">\n",
              "  <button class=\"colab-df-quickchart\" onclick=\"quickchart('df-0c0e0af2-9a64-44cf-8ac2-d95fdb5b5de1')\"\n",
              "            title=\"Suggest charts\"\n",
              "            style=\"display:none;\">\n",
              "\n",
              "<svg xmlns=\"http://www.w3.org/2000/svg\" height=\"24px\"viewBox=\"0 0 24 24\"\n",
              "     width=\"24px\">\n",
              "    <g>\n",
              "        <path d=\"M19 3H5c-1.1 0-2 .9-2 2v14c0 1.1.9 2 2 2h14c1.1 0 2-.9 2-2V5c0-1.1-.9-2-2-2zM9 17H7v-7h2v7zm4 0h-2V7h2v10zm4 0h-2v-4h2v4z\"/>\n",
              "    </g>\n",
              "</svg>\n",
              "  </button>\n",
              "\n",
              "<style>\n",
              "  .colab-df-quickchart {\n",
              "      --bg-color: #E8F0FE;\n",
              "      --fill-color: #1967D2;\n",
              "      --hover-bg-color: #E2EBFA;\n",
              "      --hover-fill-color: #174EA6;\n",
              "      --disabled-fill-color: #AAA;\n",
              "      --disabled-bg-color: #DDD;\n",
              "  }\n",
              "\n",
              "  [theme=dark] .colab-df-quickchart {\n",
              "      --bg-color: #3B4455;\n",
              "      --fill-color: #D2E3FC;\n",
              "      --hover-bg-color: #434B5C;\n",
              "      --hover-fill-color: #FFFFFF;\n",
              "      --disabled-bg-color: #3B4455;\n",
              "      --disabled-fill-color: #666;\n",
              "  }\n",
              "\n",
              "  .colab-df-quickchart {\n",
              "    background-color: var(--bg-color);\n",
              "    border: none;\n",
              "    border-radius: 50%;\n",
              "    cursor: pointer;\n",
              "    display: none;\n",
              "    fill: var(--fill-color);\n",
              "    height: 32px;\n",
              "    padding: 0;\n",
              "    width: 32px;\n",
              "  }\n",
              "\n",
              "  .colab-df-quickchart:hover {\n",
              "    background-color: var(--hover-bg-color);\n",
              "    box-shadow: 0 1px 2px rgba(60, 64, 67, 0.3), 0 1px 3px 1px rgba(60, 64, 67, 0.15);\n",
              "    fill: var(--button-hover-fill-color);\n",
              "  }\n",
              "\n",
              "  .colab-df-quickchart-complete:disabled,\n",
              "  .colab-df-quickchart-complete:disabled:hover {\n",
              "    background-color: var(--disabled-bg-color);\n",
              "    fill: var(--disabled-fill-color);\n",
              "    box-shadow: none;\n",
              "  }\n",
              "\n",
              "  .colab-df-spinner {\n",
              "    border: 2px solid var(--fill-color);\n",
              "    border-color: transparent;\n",
              "    border-bottom-color: var(--fill-color);\n",
              "    animation:\n",
              "      spin 1s steps(1) infinite;\n",
              "  }\n",
              "\n",
              "  @keyframes spin {\n",
              "    0% {\n",
              "      border-color: transparent;\n",
              "      border-bottom-color: var(--fill-color);\n",
              "      border-left-color: var(--fill-color);\n",
              "    }\n",
              "    20% {\n",
              "      border-color: transparent;\n",
              "      border-left-color: var(--fill-color);\n",
              "      border-top-color: var(--fill-color);\n",
              "    }\n",
              "    30% {\n",
              "      border-color: transparent;\n",
              "      border-left-color: var(--fill-color);\n",
              "      border-top-color: var(--fill-color);\n",
              "      border-right-color: var(--fill-color);\n",
              "    }\n",
              "    40% {\n",
              "      border-color: transparent;\n",
              "      border-right-color: var(--fill-color);\n",
              "      border-top-color: var(--fill-color);\n",
              "    }\n",
              "    60% {\n",
              "      border-color: transparent;\n",
              "      border-right-color: var(--fill-color);\n",
              "    }\n",
              "    80% {\n",
              "      border-color: transparent;\n",
              "      border-right-color: var(--fill-color);\n",
              "      border-bottom-color: var(--fill-color);\n",
              "    }\n",
              "    90% {\n",
              "      border-color: transparent;\n",
              "      border-bottom-color: var(--fill-color);\n",
              "    }\n",
              "  }\n",
              "</style>\n",
              "\n",
              "  <script>\n",
              "    async function quickchart(key) {\n",
              "      const quickchartButtonEl =\n",
              "        document.querySelector('#' + key + ' button');\n",
              "      quickchartButtonEl.disabled = true;  // To prevent multiple clicks.\n",
              "      quickchartButtonEl.classList.add('colab-df-spinner');\n",
              "      try {\n",
              "        const charts = await google.colab.kernel.invokeFunction(\n",
              "            'suggestCharts', [key], {});\n",
              "      } catch (error) {\n",
              "        console.error('Error during call to suggestCharts:', error);\n",
              "      }\n",
              "      quickchartButtonEl.classList.remove('colab-df-spinner');\n",
              "      quickchartButtonEl.classList.add('colab-df-quickchart-complete');\n",
              "    }\n",
              "    (() => {\n",
              "      let quickchartButtonEl =\n",
              "        document.querySelector('#df-0c0e0af2-9a64-44cf-8ac2-d95fdb5b5de1 button');\n",
              "      quickchartButtonEl.style.display =\n",
              "        google.colab.kernel.accessAllowed ? 'block' : 'none';\n",
              "    })();\n",
              "  </script>\n",
              "</div>\n",
              "\n",
              "    </div>\n",
              "  </div>\n"
            ],
            "application/vnd.google.colaboratory.intrinsic+json": {
              "type": "dataframe",
              "variable_name": "df"
            }
          },
          "metadata": {},
          "execution_count": 5
        }
      ]
    },
    {
      "cell_type": "code",
      "source": [
        "df.info()"
      ],
      "metadata": {
        "colab": {
          "base_uri": "https://localhost:8080/"
        },
        "id": "n11nzd51v3LZ",
        "outputId": "81a10dcf-3724-4a32-ed98-f5c47d68b482"
      },
      "execution_count": null,
      "outputs": [
        {
          "output_type": "stream",
          "name": "stdout",
          "text": [
            "<class 'pandas.core.frame.DataFrame'>\n",
            "RangeIndex: 365892 entries, 0 to 365891\n",
            "Data columns (total 25 columns):\n",
            " #   Column                  Non-Null Count   Dtype  \n",
            "---  ------                  --------------   -----  \n",
            " 0   id                      365892 non-null  int64  \n",
            " 1   state                   365892 non-null  object \n",
            " 2   name                    365842 non-null  object \n",
            " 3   country                 365892 non-null  object \n",
            " 4   creator_id              365892 non-null  int64  \n",
            " 5   location_id             364378 non-null  float64\n",
            " 6   category_id             365892 non-null  int64  \n",
            " 7   created_at              365892 non-null  int64  \n",
            " 8   deadline                365892 non-null  int64  \n",
            " 9   updated_at              365892 non-null  int64  \n",
            " 10  state_changed_at        365892 non-null  int64  \n",
            " 11  successful_at           140313 non-null  float64\n",
            " 12  launched_at             365892 non-null  int64  \n",
            " 13  goal                    365892 non-null  float64\n",
            " 14  pledged                 365892 non-null  float64\n",
            " 15  currency                365892 non-null  object \n",
            " 16  currency_symbol         365892 non-null  object \n",
            " 17  usd_pledged             365892 non-null  float64\n",
            " 18  static_usd_rate         365892 non-null  float64\n",
            " 19  backers_count           365892 non-null  int64  \n",
            " 20  spotlight               365892 non-null  int64  \n",
            " 21  staff_pick              365892 non-null  int64  \n",
            " 22  blurb                   365836 non-null  object \n",
            " 23  currency_trailing_code  365892 non-null  int64  \n",
            " 24  disable_communication   365892 non-null  int64  \n",
            "dtypes: float64(6), int64(13), object(6)\n",
            "memory usage: 69.8+ MB\n"
          ]
        }
      ]
    },
    {
      "cell_type": "code",
      "source": [
        "df.drop(['successful_at','spotlight','staff_pick','disable_communication'], axis=1, inplace=True)\n",
        "# drops unwanted columns"
      ],
      "metadata": {
        "id": "rUgxa1HWGXYs"
      },
      "execution_count": null,
      "outputs": []
    },
    {
      "cell_type": "code",
      "source": [
        "df.drop(['pledged'], axis =1, inplace=True)"
      ],
      "metadata": {
        "id": "LbzKiosBGhie"
      },
      "execution_count": null,
      "outputs": []
    },
    {
      "cell_type": "code",
      "source": [
        "df.info()"
      ],
      "metadata": {
        "colab": {
          "base_uri": "https://localhost:8080/"
        },
        "id": "rrSiZxy9v3Cq",
        "outputId": "80007858-ab4b-4f83-ee5a-39a4a9f08c9c"
      },
      "execution_count": null,
      "outputs": [
        {
          "output_type": "stream",
          "name": "stdout",
          "text": [
            "<class 'pandas.core.frame.DataFrame'>\n",
            "RangeIndex: 365892 entries, 0 to 365891\n",
            "Data columns (total 20 columns):\n",
            " #   Column                  Non-Null Count   Dtype  \n",
            "---  ------                  --------------   -----  \n",
            " 0   id                      365892 non-null  int64  \n",
            " 1   state                   365892 non-null  object \n",
            " 2   name                    365842 non-null  object \n",
            " 3   country                 365892 non-null  object \n",
            " 4   creator_id              365892 non-null  int64  \n",
            " 5   location_id             364378 non-null  float64\n",
            " 6   category_id             365892 non-null  int64  \n",
            " 7   created_at              365892 non-null  int64  \n",
            " 8   deadline                365892 non-null  int64  \n",
            " 9   updated_at              365892 non-null  int64  \n",
            " 10  state_changed_at        365892 non-null  int64  \n",
            " 11  launched_at             365892 non-null  int64  \n",
            " 12  goal                    365892 non-null  float64\n",
            " 13  currency                365892 non-null  object \n",
            " 14  currency_symbol         365892 non-null  object \n",
            " 15  usd_pledged             365892 non-null  float64\n",
            " 16  static_usd_rate         365892 non-null  float64\n",
            " 17  backers_count           365892 non-null  int64  \n",
            " 18  blurb                   365836 non-null  object \n",
            " 19  currency_trailing_code  365892 non-null  int64  \n",
            "dtypes: float64(4), int64(10), object(6)\n",
            "memory usage: 55.8+ MB\n"
          ]
        }
      ]
    },
    {
      "cell_type": "code",
      "source": [
        "pd.isnull(df).sum()\n",
        "# check for null values"
      ],
      "metadata": {
        "colab": {
          "base_uri": "https://localhost:8080/",
          "height": 711
        },
        "id": "_se008rHv2_p",
        "outputId": "7f71afdc-bf99-4fdb-c897-b76caacc8c88"
      },
      "execution_count": null,
      "outputs": [
        {
          "output_type": "execute_result",
          "data": {
            "text/plain": [
              "id                           0\n",
              "state                        0\n",
              "name                        50\n",
              "country                      0\n",
              "creator_id                   0\n",
              "location_id               1514\n",
              "category_id                  0\n",
              "created_at                   0\n",
              "deadline                     0\n",
              "updated_at                   0\n",
              "state_changed_at             0\n",
              "launched_at                  0\n",
              "goal                         0\n",
              "currency                     0\n",
              "currency_symbol              0\n",
              "usd_pledged                  0\n",
              "static_usd_rate              0\n",
              "backers_count                0\n",
              "blurb                       56\n",
              "currency_trailing_code       0\n",
              "dtype: int64"
            ],
            "text/html": [
              "<div>\n",
              "<style scoped>\n",
              "    .dataframe tbody tr th:only-of-type {\n",
              "        vertical-align: middle;\n",
              "    }\n",
              "\n",
              "    .dataframe tbody tr th {\n",
              "        vertical-align: top;\n",
              "    }\n",
              "\n",
              "    .dataframe thead th {\n",
              "        text-align: right;\n",
              "    }\n",
              "</style>\n",
              "<table border=\"1\" class=\"dataframe\">\n",
              "  <thead>\n",
              "    <tr style=\"text-align: right;\">\n",
              "      <th></th>\n",
              "      <th>0</th>\n",
              "    </tr>\n",
              "  </thead>\n",
              "  <tbody>\n",
              "    <tr>\n",
              "      <th>id</th>\n",
              "      <td>0</td>\n",
              "    </tr>\n",
              "    <tr>\n",
              "      <th>state</th>\n",
              "      <td>0</td>\n",
              "    </tr>\n",
              "    <tr>\n",
              "      <th>name</th>\n",
              "      <td>50</td>\n",
              "    </tr>\n",
              "    <tr>\n",
              "      <th>country</th>\n",
              "      <td>0</td>\n",
              "    </tr>\n",
              "    <tr>\n",
              "      <th>creator_id</th>\n",
              "      <td>0</td>\n",
              "    </tr>\n",
              "    <tr>\n",
              "      <th>location_id</th>\n",
              "      <td>1514</td>\n",
              "    </tr>\n",
              "    <tr>\n",
              "      <th>category_id</th>\n",
              "      <td>0</td>\n",
              "    </tr>\n",
              "    <tr>\n",
              "      <th>created_at</th>\n",
              "      <td>0</td>\n",
              "    </tr>\n",
              "    <tr>\n",
              "      <th>deadline</th>\n",
              "      <td>0</td>\n",
              "    </tr>\n",
              "    <tr>\n",
              "      <th>updated_at</th>\n",
              "      <td>0</td>\n",
              "    </tr>\n",
              "    <tr>\n",
              "      <th>state_changed_at</th>\n",
              "      <td>0</td>\n",
              "    </tr>\n",
              "    <tr>\n",
              "      <th>launched_at</th>\n",
              "      <td>0</td>\n",
              "    </tr>\n",
              "    <tr>\n",
              "      <th>goal</th>\n",
              "      <td>0</td>\n",
              "    </tr>\n",
              "    <tr>\n",
              "      <th>currency</th>\n",
              "      <td>0</td>\n",
              "    </tr>\n",
              "    <tr>\n",
              "      <th>currency_symbol</th>\n",
              "      <td>0</td>\n",
              "    </tr>\n",
              "    <tr>\n",
              "      <th>usd_pledged</th>\n",
              "      <td>0</td>\n",
              "    </tr>\n",
              "    <tr>\n",
              "      <th>static_usd_rate</th>\n",
              "      <td>0</td>\n",
              "    </tr>\n",
              "    <tr>\n",
              "      <th>backers_count</th>\n",
              "      <td>0</td>\n",
              "    </tr>\n",
              "    <tr>\n",
              "      <th>blurb</th>\n",
              "      <td>56</td>\n",
              "    </tr>\n",
              "    <tr>\n",
              "      <th>currency_trailing_code</th>\n",
              "      <td>0</td>\n",
              "    </tr>\n",
              "  </tbody>\n",
              "</table>\n",
              "</div><br><label><b>dtype:</b> int64</label>"
            ]
          },
          "metadata": {},
          "execution_count": 10
        }
      ]
    },
    {
      "cell_type": "code",
      "source": [
        "df.dropna( inplace=True)\n",
        "# drops null values"
      ],
      "metadata": {
        "id": "NHHnwNAU2m_U"
      },
      "execution_count": null,
      "outputs": []
    },
    {
      "cell_type": "code",
      "source": [
        "pd.isnull(df).sum()"
      ],
      "metadata": {
        "colab": {
          "base_uri": "https://localhost:8080/",
          "height": 711
        },
        "id": "q-844gdx2m76",
        "outputId": "0a379026-85e6-4593-b9d7-f5025ffee9ed"
      },
      "execution_count": null,
      "outputs": [
        {
          "output_type": "execute_result",
          "data": {
            "text/plain": [
              "id                        0\n",
              "state                     0\n",
              "name                      0\n",
              "country                   0\n",
              "creator_id                0\n",
              "location_id               0\n",
              "category_id               0\n",
              "created_at                0\n",
              "deadline                  0\n",
              "updated_at                0\n",
              "state_changed_at          0\n",
              "launched_at               0\n",
              "goal                      0\n",
              "currency                  0\n",
              "currency_symbol           0\n",
              "usd_pledged               0\n",
              "static_usd_rate           0\n",
              "backers_count             0\n",
              "blurb                     0\n",
              "currency_trailing_code    0\n",
              "dtype: int64"
            ],
            "text/html": [
              "<div>\n",
              "<style scoped>\n",
              "    .dataframe tbody tr th:only-of-type {\n",
              "        vertical-align: middle;\n",
              "    }\n",
              "\n",
              "    .dataframe tbody tr th {\n",
              "        vertical-align: top;\n",
              "    }\n",
              "\n",
              "    .dataframe thead th {\n",
              "        text-align: right;\n",
              "    }\n",
              "</style>\n",
              "<table border=\"1\" class=\"dataframe\">\n",
              "  <thead>\n",
              "    <tr style=\"text-align: right;\">\n",
              "      <th></th>\n",
              "      <th>0</th>\n",
              "    </tr>\n",
              "  </thead>\n",
              "  <tbody>\n",
              "    <tr>\n",
              "      <th>id</th>\n",
              "      <td>0</td>\n",
              "    </tr>\n",
              "    <tr>\n",
              "      <th>state</th>\n",
              "      <td>0</td>\n",
              "    </tr>\n",
              "    <tr>\n",
              "      <th>name</th>\n",
              "      <td>0</td>\n",
              "    </tr>\n",
              "    <tr>\n",
              "      <th>country</th>\n",
              "      <td>0</td>\n",
              "    </tr>\n",
              "    <tr>\n",
              "      <th>creator_id</th>\n",
              "      <td>0</td>\n",
              "    </tr>\n",
              "    <tr>\n",
              "      <th>location_id</th>\n",
              "      <td>0</td>\n",
              "    </tr>\n",
              "    <tr>\n",
              "      <th>category_id</th>\n",
              "      <td>0</td>\n",
              "    </tr>\n",
              "    <tr>\n",
              "      <th>created_at</th>\n",
              "      <td>0</td>\n",
              "    </tr>\n",
              "    <tr>\n",
              "      <th>deadline</th>\n",
              "      <td>0</td>\n",
              "    </tr>\n",
              "    <tr>\n",
              "      <th>updated_at</th>\n",
              "      <td>0</td>\n",
              "    </tr>\n",
              "    <tr>\n",
              "      <th>state_changed_at</th>\n",
              "      <td>0</td>\n",
              "    </tr>\n",
              "    <tr>\n",
              "      <th>launched_at</th>\n",
              "      <td>0</td>\n",
              "    </tr>\n",
              "    <tr>\n",
              "      <th>goal</th>\n",
              "      <td>0</td>\n",
              "    </tr>\n",
              "    <tr>\n",
              "      <th>currency</th>\n",
              "      <td>0</td>\n",
              "    </tr>\n",
              "    <tr>\n",
              "      <th>currency_symbol</th>\n",
              "      <td>0</td>\n",
              "    </tr>\n",
              "    <tr>\n",
              "      <th>usd_pledged</th>\n",
              "      <td>0</td>\n",
              "    </tr>\n",
              "    <tr>\n",
              "      <th>static_usd_rate</th>\n",
              "      <td>0</td>\n",
              "    </tr>\n",
              "    <tr>\n",
              "      <th>backers_count</th>\n",
              "      <td>0</td>\n",
              "    </tr>\n",
              "    <tr>\n",
              "      <th>blurb</th>\n",
              "      <td>0</td>\n",
              "    </tr>\n",
              "    <tr>\n",
              "      <th>currency_trailing_code</th>\n",
              "      <td>0</td>\n",
              "    </tr>\n",
              "  </tbody>\n",
              "</table>\n",
              "</div><br><label><b>dtype:</b> int64</label>"
            ]
          },
          "metadata": {},
          "execution_count": 12
        }
      ]
    },
    {
      "cell_type": "code",
      "source": [
        "df.shape"
      ],
      "metadata": {
        "colab": {
          "base_uri": "https://localhost:8080/"
        },
        "id": "dmf76RYr2m4x",
        "outputId": "feb0273c-0f71-474c-86e4-3df5a24880dc"
      },
      "execution_count": null,
      "outputs": [
        {
          "output_type": "execute_result",
          "data": {
            "text/plain": [
              "(364278, 20)"
            ]
          },
          "metadata": {},
          "execution_count": 13
        }
      ]
    },
    {
      "cell_type": "code",
      "source": [
        "df.info()"
      ],
      "metadata": {
        "colab": {
          "base_uri": "https://localhost:8080/"
        },
        "id": "7tqugVnU3nBH",
        "outputId": "cbdfc962-1156-460d-8ac9-e9e046940c1e"
      },
      "execution_count": null,
      "outputs": [
        {
          "output_type": "stream",
          "name": "stdout",
          "text": [
            "<class 'pandas.core.frame.DataFrame'>\n",
            "Index: 364278 entries, 0 to 365891\n",
            "Data columns (total 20 columns):\n",
            " #   Column                  Non-Null Count   Dtype  \n",
            "---  ------                  --------------   -----  \n",
            " 0   id                      364278 non-null  int64  \n",
            " 1   state                   364278 non-null  object \n",
            " 2   name                    364278 non-null  object \n",
            " 3   country                 364278 non-null  object \n",
            " 4   creator_id              364278 non-null  int64  \n",
            " 5   location_id             364278 non-null  float64\n",
            " 6   category_id             364278 non-null  int64  \n",
            " 7   created_at              364278 non-null  int64  \n",
            " 8   deadline                364278 non-null  int64  \n",
            " 9   updated_at              364278 non-null  int64  \n",
            " 10  state_changed_at        364278 non-null  int64  \n",
            " 11  launched_at             364278 non-null  int64  \n",
            " 12  goal                    364278 non-null  float64\n",
            " 13  currency                364278 non-null  object \n",
            " 14  currency_symbol         364278 non-null  object \n",
            " 15  usd_pledged             364278 non-null  float64\n",
            " 16  static_usd_rate         364278 non-null  float64\n",
            " 17  backers_count           364278 non-null  int64  \n",
            " 18  blurb                   364278 non-null  object \n",
            " 19  currency_trailing_code  364278 non-null  int64  \n",
            "dtypes: float64(4), int64(10), object(6)\n",
            "memory usage: 58.4+ MB\n"
          ]
        }
      ]
    },
    {
      "cell_type": "code",
      "source": [
        "df.dtypes"
      ],
      "metadata": {
        "colab": {
          "base_uri": "https://localhost:8080/",
          "height": 711
        },
        "id": "FW7Zuzdn3m9p",
        "outputId": "458df382-3d67-4232-9ae8-1dd7f73424e9"
      },
      "execution_count": null,
      "outputs": [
        {
          "output_type": "execute_result",
          "data": {
            "text/plain": [
              "id                          int64\n",
              "state                      object\n",
              "name                       object\n",
              "country                    object\n",
              "creator_id                  int64\n",
              "location_id               float64\n",
              "category_id                 int64\n",
              "created_at                  int64\n",
              "deadline                    int64\n",
              "updated_at                  int64\n",
              "state_changed_at            int64\n",
              "launched_at                 int64\n",
              "goal                      float64\n",
              "currency                   object\n",
              "currency_symbol            object\n",
              "usd_pledged               float64\n",
              "static_usd_rate           float64\n",
              "backers_count               int64\n",
              "blurb                      object\n",
              "currency_trailing_code      int64\n",
              "dtype: object"
            ],
            "text/html": [
              "<div>\n",
              "<style scoped>\n",
              "    .dataframe tbody tr th:only-of-type {\n",
              "        vertical-align: middle;\n",
              "    }\n",
              "\n",
              "    .dataframe tbody tr th {\n",
              "        vertical-align: top;\n",
              "    }\n",
              "\n",
              "    .dataframe thead th {\n",
              "        text-align: right;\n",
              "    }\n",
              "</style>\n",
              "<table border=\"1\" class=\"dataframe\">\n",
              "  <thead>\n",
              "    <tr style=\"text-align: right;\">\n",
              "      <th></th>\n",
              "      <th>0</th>\n",
              "    </tr>\n",
              "  </thead>\n",
              "  <tbody>\n",
              "    <tr>\n",
              "      <th>id</th>\n",
              "      <td>int64</td>\n",
              "    </tr>\n",
              "    <tr>\n",
              "      <th>state</th>\n",
              "      <td>object</td>\n",
              "    </tr>\n",
              "    <tr>\n",
              "      <th>name</th>\n",
              "      <td>object</td>\n",
              "    </tr>\n",
              "    <tr>\n",
              "      <th>country</th>\n",
              "      <td>object</td>\n",
              "    </tr>\n",
              "    <tr>\n",
              "      <th>creator_id</th>\n",
              "      <td>int64</td>\n",
              "    </tr>\n",
              "    <tr>\n",
              "      <th>location_id</th>\n",
              "      <td>float64</td>\n",
              "    </tr>\n",
              "    <tr>\n",
              "      <th>category_id</th>\n",
              "      <td>int64</td>\n",
              "    </tr>\n",
              "    <tr>\n",
              "      <th>created_at</th>\n",
              "      <td>int64</td>\n",
              "    </tr>\n",
              "    <tr>\n",
              "      <th>deadline</th>\n",
              "      <td>int64</td>\n",
              "    </tr>\n",
              "    <tr>\n",
              "      <th>updated_at</th>\n",
              "      <td>int64</td>\n",
              "    </tr>\n",
              "    <tr>\n",
              "      <th>state_changed_at</th>\n",
              "      <td>int64</td>\n",
              "    </tr>\n",
              "    <tr>\n",
              "      <th>launched_at</th>\n",
              "      <td>int64</td>\n",
              "    </tr>\n",
              "    <tr>\n",
              "      <th>goal</th>\n",
              "      <td>float64</td>\n",
              "    </tr>\n",
              "    <tr>\n",
              "      <th>currency</th>\n",
              "      <td>object</td>\n",
              "    </tr>\n",
              "    <tr>\n",
              "      <th>currency_symbol</th>\n",
              "      <td>object</td>\n",
              "    </tr>\n",
              "    <tr>\n",
              "      <th>usd_pledged</th>\n",
              "      <td>float64</td>\n",
              "    </tr>\n",
              "    <tr>\n",
              "      <th>static_usd_rate</th>\n",
              "      <td>float64</td>\n",
              "    </tr>\n",
              "    <tr>\n",
              "      <th>backers_count</th>\n",
              "      <td>int64</td>\n",
              "    </tr>\n",
              "    <tr>\n",
              "      <th>blurb</th>\n",
              "      <td>object</td>\n",
              "    </tr>\n",
              "    <tr>\n",
              "      <th>currency_trailing_code</th>\n",
              "      <td>int64</td>\n",
              "    </tr>\n",
              "  </tbody>\n",
              "</table>\n",
              "</div><br><label><b>dtype:</b> object</label>"
            ]
          },
          "metadata": {},
          "execution_count": 15
        }
      ]
    },
    {
      "cell_type": "code",
      "source": [
        "# Converting the Epoch Time to Natural time\n",
        "epoch_columns = [\"created_at\", \"deadline\", \"updated_at\",\"state_changed_at\",\"launched_at\"]  # Specify your column names\n",
        "\n",
        "for col in epoch_columns:\n",
        "    df[col] = pd.to_datetime(df[col], unit='s')\n",
        "\n",
        "print(df.head())\n"
      ],
      "metadata": {
        "id": "Q6Xl5_YN3m4Y",
        "colab": {
          "base_uri": "https://localhost:8080/"
        },
        "outputId": "81a3cd2a-dcfc-4473-92ac-dea5311097ac"
      },
      "execution_count": null,
      "outputs": [
        {
          "output_type": "stream",
          "name": "stdout",
          "text": [
            "         id   state                                               name  \\\n",
            "0  24080365  failed                           Feature Film: The Wolfes   \n",
            "1  27131878  failed                                        BarBQ 4REAL   \n",
            "2  30525634  failed                                 Down on the Street   \n",
            "3  31977817  failed  Descent into Madness-Stream of Conscious Endur...   \n",
            "4  33517733  failed    Help us add more content and deliver it faster!   \n",
            "\n",
            "  country  creator_id  location_id  category_id          created_at  \\\n",
            "0      US  1439247114    2488042.0          293 2017-02-01 18:10:39   \n",
            "1      US   680525996    2466256.0           10 2015-04-01 00:09:08   \n",
            "2      US   222229854    2458410.0          276 2016-03-08 23:28:16   \n",
            "3      US  1978657574    2523194.0           48 2012-07-25 21:47:22   \n",
            "4      US  1016683395    2433227.0           18 2015-03-31 13:23:34   \n",
            "\n",
            "             deadline          updated_at    state_changed_at  \\\n",
            "0 2017-03-03 20:00:00 2017-03-03 20:00:01 2017-03-03 20:00:01   \n",
            "1 2015-05-01 19:08:39 2015-05-01 19:08:40 2015-05-01 19:08:40   \n",
            "2 2016-04-08 00:05:15 2016-04-08 00:05:15 2016-04-08 00:05:15   \n",
            "3 2012-08-30 16:02:44 2014-04-18 03:21:57 2012-08-30 16:02:44   \n",
            "4 2015-04-10 14:29:42 2015-04-10 14:30:19 2015-04-10 14:30:19   \n",
            "\n",
            "          launched_at    goal currency currency_symbol  usd_pledged  \\\n",
            "0 2017-02-01 19:30:34  5000.0      USD               $          0.0   \n",
            "1 2015-04-01 19:08:39  5000.0      USD               $          0.0   \n",
            "2 2016-03-09 01:05:15  5000.0      USD               $          0.0   \n",
            "3 2012-07-31 16:02:44  5000.0      USD               $          0.0   \n",
            "4 2015-03-31 14:29:42  5000.0      USD               $          0.0   \n",
            "\n",
            "   static_usd_rate  backers_count  \\\n",
            "0              1.0              0   \n",
            "1              1.0              0   \n",
            "2              1.0              0   \n",
            "3              1.0              0   \n",
            "4              1.0              0   \n",
            "\n",
            "                                               blurb  currency_trailing_code  \n",
            "0  My film is about a boy who discovers the truth...                       1  \n",
            "1                            #Try our BBQ It's 4REAL                       1  \n",
            "2  Welcome to Down on the Street. A proposed exhi...                       1  \n",
            "3  Endurance writing for 72 hours, watch an autho...                       1  \n",
            "4  We need to upgrade our technology to create a ...                       1  \n"
          ]
        }
      ]
    },
    {
      "cell_type": "code",
      "source": [
        "# Creating a Calender Table using created_at column\n",
        "start_date = df['created_at'].min()\n",
        "end_date = df['created_at'].max()\n",
        "\n",
        "print(\"Start Date:\", start_date)\n",
        "print(\"End Date:\", end_date)"
      ],
      "metadata": {
        "id": "waV40DGZ3mzH",
        "colab": {
          "base_uri": "https://localhost:8080/"
        },
        "outputId": "034a237b-8b33-43eb-e4d2-58dd4becb29e"
      },
      "execution_count": null,
      "outputs": [
        {
          "output_type": "stream",
          "name": "stdout",
          "text": [
            "Start Date: 2009-04-21 17:00:19\n",
            "End Date: 2019-01-30 07:38:14\n"
          ]
        }
      ]
    },
    {
      "cell_type": "code",
      "source": [
        "date_range = pd.date_range(start=start_date, end=end_date)\n"
      ],
      "metadata": {
        "id": "UJpIrwyq3mwV"
      },
      "execution_count": null,
      "outputs": []
    },
    {
      "cell_type": "code",
      "source": [
        "# Calender Table\n",
        "calendar_df = pd.DataFrame({\"date\": date_range})\n",
        "\n",
        "calendar_df['Year'] = calendar_df['date'].dt.year\n",
        "calendar_df['Monthno'] = calendar_df['date'].dt.month\n",
        "calendar_df['Monthfullname'] = calendar_df['date'].dt.strftime('%B')\n",
        "calendar_df['Quarter'] = calendar_df['date'].dt.quarter.apply(lambda x: f\"Q{x}\")\n",
        "calendar_df['YearMonth'] = calendar_df['date'].dt.strftime('%Y-%b')\n",
        "calendar_df['Weekdayno'] = calendar_df['date'].dt.weekday + 1  # Monday=1, Sunday=7\n",
        "calendar_df['Weekdayname'] = calendar_df['date'].dt.strftime('%A')\n",
        "\n",
        "# Financial Month Logic (April = FM1, ..., March = FM12)\n",
        "calendar_df['FinancialMonth'] = ((calendar_df['date'].dt.month - 4) % 12 + 1)\n",
        "calendar_df['FinancialMonth'] = calendar_df['FinancialMonth'].apply(lambda x: f\"FM{x}\")\n",
        "\n",
        "# Financial Quarter Calculation\n",
        "calendar_df['FinancialQuarter'] = np.where(\n",
        "    calendar_df['FinancialMonth'].isin(['FM1', 'FM2', 'FM3']), 'FQ-1',\n",
        "    np.where(\n",
        "        calendar_df['FinancialMonth'].isin(['FM4', 'FM5', 'FM6']), 'FQ-2',\n",
        "        np.where(\n",
        "            calendar_df['FinancialMonth'].isin(['FM7', 'FM8', 'FM9']), 'FQ-3',\n",
        "            'FQ-4'\n",
        "        )\n",
        "    )\n",
        ")\n",
        "\n",
        "# Final table\n",
        "calendar_df.drop(columns=\"date\", inplace=True)  # Remove raw date if not needed\n",
        "\n",
        "# Display sample\n",
        "calendar_df.head()"
      ],
      "metadata": {
        "id": "xLineloq3mt3",
        "colab": {
          "base_uri": "https://localhost:8080/",
          "height": 226
        },
        "outputId": "2341ffad-abba-43cb-de0e-eb6616a8f404"
      },
      "execution_count": null,
      "outputs": [
        {
          "output_type": "execute_result",
          "data": {
            "text/plain": [
              "   Year  Monthno Monthfullname Quarter YearMonth  Weekdayno Weekdayname  \\\n",
              "0  2009        4         April      Q2  2009-Apr          2     Tuesday   \n",
              "1  2009        4         April      Q2  2009-Apr          3   Wednesday   \n",
              "2  2009        4         April      Q2  2009-Apr          4    Thursday   \n",
              "3  2009        4         April      Q2  2009-Apr          5      Friday   \n",
              "4  2009        4         April      Q2  2009-Apr          6    Saturday   \n",
              "\n",
              "  FinancialMonth FinancialQuarter  \n",
              "0            FM1             FQ-1  \n",
              "1            FM1             FQ-1  \n",
              "2            FM1             FQ-1  \n",
              "3            FM1             FQ-1  \n",
              "4            FM1             FQ-1  "
            ],
            "text/html": [
              "\n",
              "  <div id=\"df-f89fe2bc-d6af-4931-9f40-76c43f16d6bb\" class=\"colab-df-container\">\n",
              "    <div>\n",
              "<style scoped>\n",
              "    .dataframe tbody tr th:only-of-type {\n",
              "        vertical-align: middle;\n",
              "    }\n",
              "\n",
              "    .dataframe tbody tr th {\n",
              "        vertical-align: top;\n",
              "    }\n",
              "\n",
              "    .dataframe thead th {\n",
              "        text-align: right;\n",
              "    }\n",
              "</style>\n",
              "<table border=\"1\" class=\"dataframe\">\n",
              "  <thead>\n",
              "    <tr style=\"text-align: right;\">\n",
              "      <th></th>\n",
              "      <th>Year</th>\n",
              "      <th>Monthno</th>\n",
              "      <th>Monthfullname</th>\n",
              "      <th>Quarter</th>\n",
              "      <th>YearMonth</th>\n",
              "      <th>Weekdayno</th>\n",
              "      <th>Weekdayname</th>\n",
              "      <th>FinancialMonth</th>\n",
              "      <th>FinancialQuarter</th>\n",
              "    </tr>\n",
              "  </thead>\n",
              "  <tbody>\n",
              "    <tr>\n",
              "      <th>0</th>\n",
              "      <td>2009</td>\n",
              "      <td>4</td>\n",
              "      <td>April</td>\n",
              "      <td>Q2</td>\n",
              "      <td>2009-Apr</td>\n",
              "      <td>2</td>\n",
              "      <td>Tuesday</td>\n",
              "      <td>FM1</td>\n",
              "      <td>FQ-1</td>\n",
              "    </tr>\n",
              "    <tr>\n",
              "      <th>1</th>\n",
              "      <td>2009</td>\n",
              "      <td>4</td>\n",
              "      <td>April</td>\n",
              "      <td>Q2</td>\n",
              "      <td>2009-Apr</td>\n",
              "      <td>3</td>\n",
              "      <td>Wednesday</td>\n",
              "      <td>FM1</td>\n",
              "      <td>FQ-1</td>\n",
              "    </tr>\n",
              "    <tr>\n",
              "      <th>2</th>\n",
              "      <td>2009</td>\n",
              "      <td>4</td>\n",
              "      <td>April</td>\n",
              "      <td>Q2</td>\n",
              "      <td>2009-Apr</td>\n",
              "      <td>4</td>\n",
              "      <td>Thursday</td>\n",
              "      <td>FM1</td>\n",
              "      <td>FQ-1</td>\n",
              "    </tr>\n",
              "    <tr>\n",
              "      <th>3</th>\n",
              "      <td>2009</td>\n",
              "      <td>4</td>\n",
              "      <td>April</td>\n",
              "      <td>Q2</td>\n",
              "      <td>2009-Apr</td>\n",
              "      <td>5</td>\n",
              "      <td>Friday</td>\n",
              "      <td>FM1</td>\n",
              "      <td>FQ-1</td>\n",
              "    </tr>\n",
              "    <tr>\n",
              "      <th>4</th>\n",
              "      <td>2009</td>\n",
              "      <td>4</td>\n",
              "      <td>April</td>\n",
              "      <td>Q2</td>\n",
              "      <td>2009-Apr</td>\n",
              "      <td>6</td>\n",
              "      <td>Saturday</td>\n",
              "      <td>FM1</td>\n",
              "      <td>FQ-1</td>\n",
              "    </tr>\n",
              "  </tbody>\n",
              "</table>\n",
              "</div>\n",
              "    <div class=\"colab-df-buttons\">\n",
              "\n",
              "  <div class=\"colab-df-container\">\n",
              "    <button class=\"colab-df-convert\" onclick=\"convertToInteractive('df-f89fe2bc-d6af-4931-9f40-76c43f16d6bb')\"\n",
              "            title=\"Convert this dataframe to an interactive table.\"\n",
              "            style=\"display:none;\">\n",
              "\n",
              "  <svg xmlns=\"http://www.w3.org/2000/svg\" height=\"24px\" viewBox=\"0 -960 960 960\">\n",
              "    <path d=\"M120-120v-720h720v720H120Zm60-500h600v-160H180v160Zm220 220h160v-160H400v160Zm0 220h160v-160H400v160ZM180-400h160v-160H180v160Zm440 0h160v-160H620v160ZM180-180h160v-160H180v160Zm440 0h160v-160H620v160Z\"/>\n",
              "  </svg>\n",
              "    </button>\n",
              "\n",
              "  <style>\n",
              "    .colab-df-container {\n",
              "      display:flex;\n",
              "      gap: 12px;\n",
              "    }\n",
              "\n",
              "    .colab-df-convert {\n",
              "      background-color: #E8F0FE;\n",
              "      border: none;\n",
              "      border-radius: 50%;\n",
              "      cursor: pointer;\n",
              "      display: none;\n",
              "      fill: #1967D2;\n",
              "      height: 32px;\n",
              "      padding: 0 0 0 0;\n",
              "      width: 32px;\n",
              "    }\n",
              "\n",
              "    .colab-df-convert:hover {\n",
              "      background-color: #E2EBFA;\n",
              "      box-shadow: 0px 1px 2px rgba(60, 64, 67, 0.3), 0px 1px 3px 1px rgba(60, 64, 67, 0.15);\n",
              "      fill: #174EA6;\n",
              "    }\n",
              "\n",
              "    .colab-df-buttons div {\n",
              "      margin-bottom: 4px;\n",
              "    }\n",
              "\n",
              "    [theme=dark] .colab-df-convert {\n",
              "      background-color: #3B4455;\n",
              "      fill: #D2E3FC;\n",
              "    }\n",
              "\n",
              "    [theme=dark] .colab-df-convert:hover {\n",
              "      background-color: #434B5C;\n",
              "      box-shadow: 0px 1px 3px 1px rgba(0, 0, 0, 0.15);\n",
              "      filter: drop-shadow(0px 1px 2px rgba(0, 0, 0, 0.3));\n",
              "      fill: #FFFFFF;\n",
              "    }\n",
              "  </style>\n",
              "\n",
              "    <script>\n",
              "      const buttonEl =\n",
              "        document.querySelector('#df-f89fe2bc-d6af-4931-9f40-76c43f16d6bb button.colab-df-convert');\n",
              "      buttonEl.style.display =\n",
              "        google.colab.kernel.accessAllowed ? 'block' : 'none';\n",
              "\n",
              "      async function convertToInteractive(key) {\n",
              "        const element = document.querySelector('#df-f89fe2bc-d6af-4931-9f40-76c43f16d6bb');\n",
              "        const dataTable =\n",
              "          await google.colab.kernel.invokeFunction('convertToInteractive',\n",
              "                                                    [key], {});\n",
              "        if (!dataTable) return;\n",
              "\n",
              "        const docLinkHtml = 'Like what you see? Visit the ' +\n",
              "          '<a target=\"_blank\" href=https://colab.research.google.com/notebooks/data_table.ipynb>data table notebook</a>'\n",
              "          + ' to learn more about interactive tables.';\n",
              "        element.innerHTML = '';\n",
              "        dataTable['output_type'] = 'display_data';\n",
              "        await google.colab.output.renderOutput(dataTable, element);\n",
              "        const docLink = document.createElement('div');\n",
              "        docLink.innerHTML = docLinkHtml;\n",
              "        element.appendChild(docLink);\n",
              "      }\n",
              "    </script>\n",
              "  </div>\n",
              "\n",
              "\n",
              "<div id=\"df-4f6da888-97b7-4fac-8ba6-af4d9283acd6\">\n",
              "  <button class=\"colab-df-quickchart\" onclick=\"quickchart('df-4f6da888-97b7-4fac-8ba6-af4d9283acd6')\"\n",
              "            title=\"Suggest charts\"\n",
              "            style=\"display:none;\">\n",
              "\n",
              "<svg xmlns=\"http://www.w3.org/2000/svg\" height=\"24px\"viewBox=\"0 0 24 24\"\n",
              "     width=\"24px\">\n",
              "    <g>\n",
              "        <path d=\"M19 3H5c-1.1 0-2 .9-2 2v14c0 1.1.9 2 2 2h14c1.1 0 2-.9 2-2V5c0-1.1-.9-2-2-2zM9 17H7v-7h2v7zm4 0h-2V7h2v10zm4 0h-2v-4h2v4z\"/>\n",
              "    </g>\n",
              "</svg>\n",
              "  </button>\n",
              "\n",
              "<style>\n",
              "  .colab-df-quickchart {\n",
              "      --bg-color: #E8F0FE;\n",
              "      --fill-color: #1967D2;\n",
              "      --hover-bg-color: #E2EBFA;\n",
              "      --hover-fill-color: #174EA6;\n",
              "      --disabled-fill-color: #AAA;\n",
              "      --disabled-bg-color: #DDD;\n",
              "  }\n",
              "\n",
              "  [theme=dark] .colab-df-quickchart {\n",
              "      --bg-color: #3B4455;\n",
              "      --fill-color: #D2E3FC;\n",
              "      --hover-bg-color: #434B5C;\n",
              "      --hover-fill-color: #FFFFFF;\n",
              "      --disabled-bg-color: #3B4455;\n",
              "      --disabled-fill-color: #666;\n",
              "  }\n",
              "\n",
              "  .colab-df-quickchart {\n",
              "    background-color: var(--bg-color);\n",
              "    border: none;\n",
              "    border-radius: 50%;\n",
              "    cursor: pointer;\n",
              "    display: none;\n",
              "    fill: var(--fill-color);\n",
              "    height: 32px;\n",
              "    padding: 0;\n",
              "    width: 32px;\n",
              "  }\n",
              "\n",
              "  .colab-df-quickchart:hover {\n",
              "    background-color: var(--hover-bg-color);\n",
              "    box-shadow: 0 1px 2px rgba(60, 64, 67, 0.3), 0 1px 3px 1px rgba(60, 64, 67, 0.15);\n",
              "    fill: var(--button-hover-fill-color);\n",
              "  }\n",
              "\n",
              "  .colab-df-quickchart-complete:disabled,\n",
              "  .colab-df-quickchart-complete:disabled:hover {\n",
              "    background-color: var(--disabled-bg-color);\n",
              "    fill: var(--disabled-fill-color);\n",
              "    box-shadow: none;\n",
              "  }\n",
              "\n",
              "  .colab-df-spinner {\n",
              "    border: 2px solid var(--fill-color);\n",
              "    border-color: transparent;\n",
              "    border-bottom-color: var(--fill-color);\n",
              "    animation:\n",
              "      spin 1s steps(1) infinite;\n",
              "  }\n",
              "\n",
              "  @keyframes spin {\n",
              "    0% {\n",
              "      border-color: transparent;\n",
              "      border-bottom-color: var(--fill-color);\n",
              "      border-left-color: var(--fill-color);\n",
              "    }\n",
              "    20% {\n",
              "      border-color: transparent;\n",
              "      border-left-color: var(--fill-color);\n",
              "      border-top-color: var(--fill-color);\n",
              "    }\n",
              "    30% {\n",
              "      border-color: transparent;\n",
              "      border-left-color: var(--fill-color);\n",
              "      border-top-color: var(--fill-color);\n",
              "      border-right-color: var(--fill-color);\n",
              "    }\n",
              "    40% {\n",
              "      border-color: transparent;\n",
              "      border-right-color: var(--fill-color);\n",
              "      border-top-color: var(--fill-color);\n",
              "    }\n",
              "    60% {\n",
              "      border-color: transparent;\n",
              "      border-right-color: var(--fill-color);\n",
              "    }\n",
              "    80% {\n",
              "      border-color: transparent;\n",
              "      border-right-color: var(--fill-color);\n",
              "      border-bottom-color: var(--fill-color);\n",
              "    }\n",
              "    90% {\n",
              "      border-color: transparent;\n",
              "      border-bottom-color: var(--fill-color);\n",
              "    }\n",
              "  }\n",
              "</style>\n",
              "\n",
              "  <script>\n",
              "    async function quickchart(key) {\n",
              "      const quickchartButtonEl =\n",
              "        document.querySelector('#' + key + ' button');\n",
              "      quickchartButtonEl.disabled = true;  // To prevent multiple clicks.\n",
              "      quickchartButtonEl.classList.add('colab-df-spinner');\n",
              "      try {\n",
              "        const charts = await google.colab.kernel.invokeFunction(\n",
              "            'suggestCharts', [key], {});\n",
              "      } catch (error) {\n",
              "        console.error('Error during call to suggestCharts:', error);\n",
              "      }\n",
              "      quickchartButtonEl.classList.remove('colab-df-spinner');\n",
              "      quickchartButtonEl.classList.add('colab-df-quickchart-complete');\n",
              "    }\n",
              "    (() => {\n",
              "      let quickchartButtonEl =\n",
              "        document.querySelector('#df-4f6da888-97b7-4fac-8ba6-af4d9283acd6 button');\n",
              "      quickchartButtonEl.style.display =\n",
              "        google.colab.kernel.accessAllowed ? 'block' : 'none';\n",
              "    })();\n",
              "  </script>\n",
              "</div>\n",
              "\n",
              "    </div>\n",
              "  </div>\n"
            ],
            "application/vnd.google.colaboratory.intrinsic+json": {
              "type": "dataframe",
              "variable_name": "calendar_df",
              "summary": "{\n  \"name\": \"calendar_df\",\n  \"rows\": 3571,\n  \"fields\": [\n    {\n      \"column\": \"Year\",\n      \"properties\": {\n        \"dtype\": \"int32\",\n        \"num_unique_values\": 11,\n        \"samples\": [\n          2014,\n          2009,\n          2018\n        ],\n        \"semantic_type\": \"\",\n        \"description\": \"\"\n      }\n    },\n    {\n      \"column\": \"Monthno\",\n      \"properties\": {\n        \"dtype\": \"int32\",\n        \"num_unique_values\": 12,\n        \"samples\": [\n          2,\n          1,\n          4\n        ],\n        \"semantic_type\": \"\",\n        \"description\": \"\"\n      }\n    },\n    {\n      \"column\": \"Monthfullname\",\n      \"properties\": {\n        \"dtype\": \"category\",\n        \"num_unique_values\": 12,\n        \"samples\": [\n          \"February\",\n          \"January\",\n          \"April\"\n        ],\n        \"semantic_type\": \"\",\n        \"description\": \"\"\n      }\n    },\n    {\n      \"column\": \"Quarter\",\n      \"properties\": {\n        \"dtype\": \"category\",\n        \"num_unique_values\": 4,\n        \"samples\": [\n          \"Q3\",\n          \"Q1\",\n          \"Q2\"\n        ],\n        \"semantic_type\": \"\",\n        \"description\": \"\"\n      }\n    },\n    {\n      \"column\": \"YearMonth\",\n      \"properties\": {\n        \"dtype\": \"object\",\n        \"num_unique_values\": 118,\n        \"samples\": [\n          \"2013-Dec\",\n          \"2016-Sep\",\n          \"2009-Aug\"\n        ],\n        \"semantic_type\": \"\",\n        \"description\": \"\"\n      }\n    },\n    {\n      \"column\": \"Weekdayno\",\n      \"properties\": {\n        \"dtype\": \"int32\",\n        \"num_unique_values\": 7,\n        \"samples\": [\n          2,\n          3,\n          7\n        ],\n        \"semantic_type\": \"\",\n        \"description\": \"\"\n      }\n    },\n    {\n      \"column\": \"Weekdayname\",\n      \"properties\": {\n        \"dtype\": \"category\",\n        \"num_unique_values\": 7,\n        \"samples\": [\n          \"Tuesday\",\n          \"Wednesday\",\n          \"Sunday\"\n        ],\n        \"semantic_type\": \"\",\n        \"description\": \"\"\n      }\n    },\n    {\n      \"column\": \"FinancialMonth\",\n      \"properties\": {\n        \"dtype\": \"category\",\n        \"num_unique_values\": 12,\n        \"samples\": [\n          \"FM11\",\n          \"FM10\",\n          \"FM1\"\n        ],\n        \"semantic_type\": \"\",\n        \"description\": \"\"\n      }\n    },\n    {\n      \"column\": \"FinancialQuarter\",\n      \"properties\": {\n        \"dtype\": \"category\",\n        \"num_unique_values\": 4,\n        \"samples\": [\n          \"FQ-2\",\n          \"FQ-4\",\n          \"FQ-1\"\n        ],\n        \"semantic_type\": \"\",\n        \"description\": \"\"\n      }\n    }\n  ]\n}"
            }
          },
          "metadata": {},
          "execution_count": 20
        }
      ]
    },
    {
      "cell_type": "code",
      "source": [
        "# Converting the Goal amount into USD using the Static USD Rate\n",
        "# Using f-string formatting\n",
        "df['USD'] = df['goal'] * df['static_usd_rate']\n",
        "df['USD'] = df['USD'].apply(lambda x: f\"$ {x}\")\n",
        "\n",
        "print(df)"
      ],
      "metadata": {
        "id": "DP9FzqAi3mrT",
        "colab": {
          "base_uri": "https://localhost:8080/"
        },
        "outputId": "6906ae95-eb90-4cf2-ed68-c035a6c7f23e"
      },
      "execution_count": null,
      "outputs": [
        {
          "output_type": "stream",
          "name": "stdout",
          "text": [
            "                id       state  \\\n",
            "0         24080365      failed   \n",
            "1         27131878      failed   \n",
            "2         30525634      failed   \n",
            "3         31977817      failed   \n",
            "4         33517733      failed   \n",
            "...            ...         ...   \n",
            "365887  1770473148  successful   \n",
            "365888  1811278188  successful   \n",
            "365889  1943850189  successful   \n",
            "365890  2000620256  successful   \n",
            "365891  2047690216  successful   \n",
            "\n",
            "                                                     name country  creator_id  \\\n",
            "0                                Feature Film: The Wolfes      US  1439247114   \n",
            "1                                             BarBQ 4REAL      US   680525996   \n",
            "2                                      Down on the Street      US   222229854   \n",
            "3       Descent into Madness-Stream of Conscious Endur...      US  1978657574   \n",
            "4         Help us add more content and deliver it faster!      US  1016683395   \n",
            "...                                                   ...     ...         ...   \n",
            "365887                                Rainpaper Notebooks      US  1421716661   \n",
            "365888                Publishing CIA's Declassified Vault      US   285662323   \n",
            "365889                                 A Vampire in Paris      US  1950939342   \n",
            "365890  Re-Launch of Tezuka's - Under the Air (Classic...      US  1214441175   \n",
            "365891                  Kickstand Comics: Volumes 5 and 6      US  1553470531   \n",
            "\n",
            "        location_id  category_id          created_at            deadline  \\\n",
            "0         2488042.0          293 2017-02-01 18:10:39 2017-03-03 20:00:00   \n",
            "1         2466256.0           10 2015-04-01 00:09:08 2015-05-01 19:08:39   \n",
            "2         2458410.0          276 2016-03-08 23:28:16 2016-04-08 00:05:15   \n",
            "3         2523194.0           48 2012-07-25 21:47:22 2012-08-30 16:02:44   \n",
            "4         2433227.0           18 2015-03-31 13:23:34 2015-04-10 14:29:42   \n",
            "...             ...          ...                 ...                 ...   \n",
            "365887    2459358.0            7 2017-08-13 14:20:55 2017-09-13 15:29:35   \n",
            "365888    2383078.0           18 2016-01-21 23:14:56 2016-03-02 12:23:10   \n",
            "365889    2402292.0          250 2018-03-21 22:47:33 2018-04-26 13:56:10   \n",
            "365890    2408830.0            3 2016-10-25 22:51:04 2016-11-26 18:59:52   \n",
            "365891    2491504.0            3 2015-10-29 21:24:07 2015-12-08 16:04:59   \n",
            "\n",
            "                updated_at  ...         launched_at     goal  currency  \\\n",
            "0      2017-03-03 20:00:01  ... 2017-02-01 19:30:34   5000.0       USD   \n",
            "1      2015-05-01 19:08:40  ... 2015-04-01 19:08:39   5000.0       USD   \n",
            "2      2016-04-08 00:05:15  ... 2016-03-09 01:05:15   5000.0       USD   \n",
            "3      2014-04-18 03:21:57  ... 2012-07-31 16:02:44   5000.0       USD   \n",
            "4      2015-04-10 14:30:19  ... 2015-03-31 14:29:42   5000.0       USD   \n",
            "...                    ...  ...                 ...      ...       ...   \n",
            "365887 2017-11-03 17:25:59  ... 2017-08-23 15:29:35   2000.0       USD   \n",
            "365888 2018-03-27 04:09:10  ... 2016-02-01 12:23:10  10000.0       USD   \n",
            "365889 2018-05-19 18:11:15  ... 2018-03-27 13:56:10   7000.0       USD   \n",
            "365890 2018-01-10 05:11:21  ... 2016-10-27 17:59:52  25000.0       USD   \n",
            "365891 2018-03-25 04:10:06  ... 2015-11-08 16:04:59  18000.0       USD   \n",
            "\n",
            "       currency_symbol usd_pledged  static_usd_rate  backers_count  \\\n",
            "0                    $        0.00              1.0              0   \n",
            "1                    $        0.00              1.0              0   \n",
            "2                    $        0.00              1.0              0   \n",
            "3                    $        0.00              1.0              0   \n",
            "4                    $        0.00              1.0              0   \n",
            "...                ...         ...              ...            ...   \n",
            "365887               $     8530.00              1.0             69   \n",
            "365888               $    15199.30              1.0            462   \n",
            "365889               $     9304.00              1.0            469   \n",
            "365890               $    57584.00              1.0            777   \n",
            "365891               $    35116.01              1.0            611   \n",
            "\n",
            "                                                    blurb  \\\n",
            "0       My film is about a boy who discovers the truth...   \n",
            "1                                 #Try our BBQ It's 4REAL   \n",
            "2       Welcome to Down on the Street. A proposed exhi...   \n",
            "3       Endurance writing for 72 hours, watch an autho...   \n",
            "4       We need to upgrade our technology to create a ...   \n",
            "...                                                   ...   \n",
            "365887  As part of 'Projects of Earth', we present a n...   \n",
            "365888  There are nearly 13 million pages of CIA docum...   \n",
            "365889  Kara Belmont is convinced of one thing, her un...   \n",
            "365890  Localizing and publishing Osamu Tezuka’s dark ...   \n",
            "365891  Preorder Kickstand Comics Volume 6 featuring Y...   \n",
            "\n",
            "       currency_trailing_code        USD  \n",
            "0                           1   $ 5000.0  \n",
            "1                           1   $ 5000.0  \n",
            "2                           1   $ 5000.0  \n",
            "3                           1   $ 5000.0  \n",
            "4                           1   $ 5000.0  \n",
            "...                       ...        ...  \n",
            "365887                      1   $ 2000.0  \n",
            "365888                      1  $ 10000.0  \n",
            "365889                      1   $ 7000.0  \n",
            "365890                      1  $ 25000.0  \n",
            "365891                      1  $ 18000.0  \n",
            "\n",
            "[364278 rows x 21 columns]\n"
          ]
        }
      ]
    },
    {
      "cell_type": "code",
      "source": [
        "# PROJECTS OVERVIEW KPI\n",
        "# A. Projects by Outcome\n",
        "plt.subplot(1, 1, 1)\n",
        "sns.countplot(x='state', data=df, palette='coolwarm')\n",
        "plt.title(\"Total Projects by Outcome\")\n",
        "plt.xlabel(\"Outcome\")\n",
        "plt.ylabel(\"Count\")"
      ],
      "metadata": {
        "id": "d6_Die_J3mox",
        "colab": {
          "base_uri": "https://localhost:8080/",
          "height": 596
        },
        "outputId": "cd6de47e-ba4f-4991-c4d0-e89edc84bb46"
      },
      "execution_count": null,
      "outputs": [
        {
          "output_type": "stream",
          "name": "stderr",
          "text": [
            "<ipython-input-22-423c58646f61>:4: FutureWarning: \n",
            "\n",
            "Passing `palette` without assigning `hue` is deprecated and will be removed in v0.14.0. Assign the `x` variable to `hue` and set `legend=False` for the same effect.\n",
            "\n",
            "  sns.countplot(x='state', data=df, palette='coolwarm')\n"
          ]
        },
        {
          "output_type": "execute_result",
          "data": {
            "text/plain": [
              "Text(0, 0.5, 'Count')"
            ]
          },
          "metadata": {},
          "execution_count": 22
        },
        {
          "output_type": "display_data",
          "data": {
            "text/plain": [
              "<Figure size 640x480 with 1 Axes>"
            ],
            "image/png": "[encoded data removed]"
          },
          "metadata": {}
        }
      ]
    },
    {
      "cell_type": "code",
      "source": [
        "# B. Projects by Location\n",
        "plt.subplot(1, 1, 1)\n",
        "top_locations = df['country'].value_counts().nlargest(5)  # Top 5 locations\n",
        "sns.barplot(x=top_locations.values, y=top_locations.index, palette=\"viridis\")\n",
        "plt.title(\"Projects by Location (Top 5)\")\n",
        "plt.xlabel(\"Count\")\n",
        "plt.ylabel(\"Country\")"
      ],
      "metadata": {
        "id": "_gvsoQgW3mmQ",
        "colab": {
          "base_uri": "https://localhost:8080/",
          "height": 596
        },
        "outputId": "04c5970f-77cf-4707-e3c6-553328b068b0"
      },
      "execution_count": null,
      "outputs": [
        {
          "output_type": "stream",
          "name": "stderr",
          "text": [
            "<ipython-input-23-f0a4421293a9>:4: FutureWarning: \n",
            "\n",
            "Passing `palette` without assigning `hue` is deprecated and will be removed in v0.14.0. Assign the `y` variable to `hue` and set `legend=False` for the same effect.\n",
            "\n",
            "  sns.barplot(x=top_locations.values, y=top_locations.index, palette=\"viridis\")\n"
          ]
        },
        {
          "output_type": "execute_result",
          "data": {
            "text/plain": [
              "Text(0, 0.5, 'Country')"
            ]
          },
          "metadata": {},
          "execution_count": 23
        },
        {
          "output_type": "display_data",
          "data": {
            "text/plain": [
              "<Figure size 640x480 with 1 Axes>"
            ],
            "image/png": "[encoded data removed]"
          },
          "metadata": {}
        }
      ]
    },
    {
      "cell_type": "code",
      "source": [
        "# C. Projects by Category\n",
        "plt.subplot(1, 1, 1)\n",
        "top_categories = df['category_id'].value_counts().nlargest(5)\n",
        "sns.barplot(x=top_categories.values, y=top_categories.index, palette=\"rocket\")\n",
        "plt.title(\"Projects by Category (Top 5)\")\n",
        "plt.xlabel(\"Count\")\n",
        "plt.ylabel(\"Category ID\")"
      ],
      "metadata": {
        "id": "UxuOpMD43mjM",
        "colab": {
          "base_uri": "https://localhost:8080/",
          "height": 596
        },
        "outputId": "11505974-1e20-4670-9beb-2622a586e7bb"
      },
      "execution_count": null,
      "outputs": [
        {
          "output_type": "stream",
          "name": "stderr",
          "text": [
            "<ipython-input-24-d7cc8ebf79cd>:4: FutureWarning: \n",
            "\n",
            "Passing `palette` without assigning `hue` is deprecated and will be removed in v0.14.0. Assign the `x` variable to `hue` and set `legend=False` for the same effect.\n",
            "\n",
            "  sns.barplot(x=top_categories.values, y=top_categories.index, palette=\"rocket\")\n"
          ]
        },
        {
          "output_type": "execute_result",
          "data": {
            "text/plain": [
              "Text(0, 0.5, 'Category ID')"
            ]
          },
          "metadata": {},
          "execution_count": 24
        },
        {
          "output_type": "display_data",
          "data": {
            "text/plain": [
              "<Figure size 640x480 with 1 Axes>"
            ],
            "image/png": "[encoded data removed]"
          },
          "metadata": {}
        }
      ]
    },
    {
      "cell_type": "code",
      "source": [
        "# D. Projects Created by Year, Quarter, Month\n",
        "df['Year'] = df['created_at'].dt.year\n",
        "df['Quarter'] = df['created_at'].dt.to_period('Q').astype(str)\n",
        "df['Month'] = df['created_at'].dt.strftime('%Y-%b')\n",
        "\n",
        "plt.subplot(1, 1, 1)\n",
        "sns.countplot(x='Year', data=df, palette='magma')\n",
        "plt.title(\"Projects Created by Year\")\n",
        "plt.xlabel(\"Year\")\n",
        "plt.ylabel(\"Count\")\n",
        "\n",
        "plt.tight_layout()\n",
        "plt.show()"
      ],
      "metadata": {
        "id": "z0nuPYDW3mgb",
        "colab": {
          "base_uri": "https://localhost:8080/",
          "height": 594
        },
        "outputId": "b92e0cf5-cf9c-4bed-9120-5fece3200404"
      },
      "execution_count": null,
      "outputs": [
        {
          "output_type": "stream",
          "name": "stderr",
          "text": [
            "<ipython-input-25-425e7cbbeb25>:7: FutureWarning: \n",
            "\n",
            "Passing `palette` without assigning `hue` is deprecated and will be removed in v0.14.0. Assign the `x` variable to `hue` and set `legend=False` for the same effect.\n",
            "\n",
            "  sns.countplot(x='Year', data=df, palette='magma')\n"
          ]
        },
        {
          "output_type": "display_data",
          "data": {
            "text/plain": [
              "<Figure size 640x480 with 1 Axes>"
            ],
            "image/png": "[encoded data removed]"
          },
          "metadata": {}
        }
      ]
    },
    {
      "cell_type": "code",
      "source": [
        "# Filter successful projects\n",
        "successful_projects = df[df['state'] == 'successful']\n"
      ],
      "metadata": {
        "id": "7gMKGei6MlE5"
      },
      "execution_count": null,
      "outputs": []
    },
    {
      "cell_type": "code",
      "source": [
        "# Calculated necessary metrics\n",
        "amount_raised = successful_projects['usd_pledged'].sum()\n",
        "number_of_backers = successful_projects['backers_count'].sum()\n",
        "successful_projects['duration'] = (successful_projects['deadline'] - successful_projects['created_at']).dt.days\n",
        "avg_duration_successful = successful_projects['duration'].mean()"
      ],
      "metadata": {
        "colab": {
          "base_uri": "https://localhost:8080/"
        },
        "id": "CLwGCqyHKnXW",
        "outputId": "96b7d9d7-f178-4641-ddbc-f0906c58d37c"
      },
      "execution_count": null,
      "outputs": [
        {
          "output_type": "stream",
          "name": "stderr",
          "text": [
            "<ipython-input-27-b32eacb1a4f9>:4: SettingWithCopyWarning: \n",
            "A value is trying to be set on a copy of a slice from a DataFrame.\n",
            "Try using .loc[row_indexer,col_indexer] = value instead\n",
            "\n",
            "See the caveats in the documentation: https://pandas.pydata.org/pandas-docs/stable/user_guide/indexing.html#returning-a-view-versus-a-copy\n",
            "  successful_projects['duration'] = (successful_projects['deadline'] - successful_projects['created_at']).dt.days\n"
          ]
        }
      ]
    },
    {
      "cell_type": "code",
      "source": [
        "plt.figure(figsize=(10, 5))"
      ],
      "metadata": {
        "colab": {
          "base_uri": "https://localhost:8080/",
          "height": 52
        },
        "id": "xHPZEDflKnTv",
        "outputId": "f318385a-ba18-48e5-f7f3-4a539d6a1866"
      },
      "execution_count": null,
      "outputs": [
        {
          "output_type": "execute_result",
          "data": {
            "text/plain": [
              "<Figure size 1000x500 with 0 Axes>"
            ]
          },
          "metadata": {},
          "execution_count": 28
        },
        {
          "output_type": "display_data",
          "data": {
            "text/plain": [
              "<Figure size 1000x500 with 0 Axes>"
            ]
          },
          "metadata": {}
        }
      ]
    },
    {
      "cell_type": "code",
      "source": [
        "# 1. Amount Raised by Successful Projects\n",
        "plt.subplot(1, 3, 1)\n",
        "# Ensure values are non-negative before plotting\n",
        "values = [amount_raised, max(0, successful_projects['goal'].sum() - amount_raised)]\n",
        "plt.pie(values,\n",
        "        labels=[\"Raised\", \"Remaining\"], autopct='%1.1f%%', colors=['#66b3ff', '#ff9999'])\n",
        "plt.title(\"Amount Raised by Successful Projects\")"
      ],
      "metadata": {
        "colab": {
          "base_uri": "https://localhost:8080/",
          "height": 222
        },
        "id": "y3tQoVsfKnQ9",
        "outputId": "3d8373ba-b3d8-4b54-9835-0e6adf0fc76b"
      },
      "execution_count": null,
      "outputs": [
        {
          "output_type": "execute_result",
          "data": {
            "text/plain": [
              "Text(0.5, 1.0, 'Amount Raised by Successful Projects')"
            ]
          },
          "metadata": {},
          "execution_count": 29
        },
        {
          "output_type": "display_data",
          "data": {
            "text/plain": [
              "<Figure size 640x480 with 1 Axes>"
            ],
            "image/png": "[encoded data removed]"
          },
          "metadata": {}
        }
      ]
    },
    {
      "cell_type": "code",
      "source": [
        "# 2. Number of Backers for Successful Projects\n",
        "plt.subplot(1, 3, 2)\n",
        "plt.pie([number_of_backers, df['backers_count'].sum() - number_of_backers],\n",
        "        labels=[\"Backers (Successful)\", \"Others\"], autopct='%1.1f%%', colors=['#99ff99', '#ffcc99'])\n",
        "plt.title(\"Backers for Successful Projects\")"
      ],
      "metadata": {
        "colab": {
          "base_uri": "https://localhost:8080/",
          "height": 222
        },
        "id": "9GePJ09cKnOi",
        "outputId": "9f9c05ce-8265-4c4d-ba97-7bcd3414b601"
      },
      "execution_count": null,
      "outputs": [
        {
          "output_type": "execute_result",
          "data": {
            "text/plain": [
              "Text(0.5, 1.0, 'Backers for Successful Projects')"
            ]
          },
          "metadata": {},
          "execution_count": 30
        },
        {
          "output_type": "display_data",
          "data": {
            "text/plain": [
              "<Figure size 640x480 with 1 Axes>"
            ],
            "image/png": "[encoded data removed]"
          },
          "metadata": {}
        }
      ]
    },
    {
      "cell_type": "code",
      "source": [
        "# 3. Average Duration for Successful Projects\n",
        "plt.subplot(1, 3, 1)\n",
        "sns.barplot(x=[\"Avg Duration (Days)\"], y=[avg_duration_successful], palette=\"Blues\")\n",
        "plt.title(\"Avg Duration of Successful Projects\")\n",
        "\n",
        "plt.tight_layout()\n",
        "plt.show()"
      ],
      "metadata": {
        "colab": {
          "base_uri": "https://localhost:8080/",
          "height": 594
        },
        "id": "8qsSVBPHKnLx",
        "outputId": "ef86a025-72bd-4ae2-be55-5520e2b4abae"
      },
      "execution_count": null,
      "outputs": [
        {
          "output_type": "stream",
          "name": "stderr",
          "text": [
            "<ipython-input-31-f51d73150cdd>:3: FutureWarning: \n",
            "\n",
            "Passing `palette` without assigning `hue` is deprecated and will be removed in v0.14.0. Assign the `x` variable to `hue` and set `legend=False` for the same effect.\n",
            "\n",
            "  sns.barplot(x=[\"Avg Duration (Days)\"], y=[avg_duration_successful], palette=\"Blues\")\n"
          ]
        },
        {
          "output_type": "display_data",
          "data": {
            "text/plain": [
              "<Figure size 640x480 with 1 Axes>"
            ],
            "image/png": "[encoded data removed]"
          },
          "metadata": {}
        }
      ]
    },
    {
      "cell_type": "code",
      "source": [
        "# Top 5 Projects by Number of Backers\n",
        "successful_projects = df[df['state'] == 'successful']\n",
        "top_backers = successful_projects.nlargest(5, 'backers_count')"
      ],
      "metadata": {
        "id": "3LVR20QdRjXB"
      },
      "execution_count": null,
      "outputs": []
    },
    {
      "cell_type": "code",
      "source": [
        "# Top 5 Projects by Amount Raised\n",
        "top_amount_raised = successful_projects.nlargest(5, 'usd_pledged')\n",
        "\n",
        "plt.figure(figsize=(15, 6))"
      ],
      "metadata": {
        "colab": {
          "base_uri": "https://localhost:8080/",
          "height": 52
        },
        "id": "mRBcBzEiRjT7",
        "outputId": "0989c8a8-9a95-4b20-f858-fb4f2a9701b7"
      },
      "execution_count": null,
      "outputs": [
        {
          "output_type": "execute_result",
          "data": {
            "text/plain": [
              "<Figure size 1500x600 with 0 Axes>"
            ]
          },
          "metadata": {},
          "execution_count": 33
        },
        {
          "output_type": "display_data",
          "data": {
            "text/plain": [
              "<Figure size 1500x600 with 0 Axes>"
            ]
          },
          "metadata": {}
        }
      ]
    },
    {
      "cell_type": "code",
      "source": [
        "# 1. Top 5 Projects by Number of Backers\n",
        "plt.subplot(1, 2, 1)\n",
        "sns.barplot(x=top_backers['backers_count'], y=top_backers['name'], palette=\"viridis\")\n",
        "plt.title(\"Top 5 Projects by Number of Backers\")\n",
        "plt.xlabel(\"Number of Backers\")\n",
        "plt.ylabel(\"Project Name\")"
      ],
      "metadata": {
        "colab": {
          "base_uri": "https://localhost:8080/",
          "height": 596
        },
        "id": "ZuqGIqWsRjR5",
        "outputId": "e9be6f5f-0559-4208-a147-589250ec06b6"
      },
      "execution_count": null,
      "outputs": [
        {
          "output_type": "stream",
          "name": "stderr",
          "text": [
            "<ipython-input-34-a3ba1d1a6641>:3: FutureWarning: \n",
            "\n",
            "Passing `palette` without assigning `hue` is deprecated and will be removed in v0.14.0. Assign the `y` variable to `hue` and set `legend=False` for the same effect.\n",
            "\n",
            "  sns.barplot(x=top_backers['backers_count'], y=top_backers['name'], palette=\"viridis\")\n"
          ]
        },
        {
          "output_type": "execute_result",
          "data": {
            "text/plain": [
              "Text(0, 0.5, 'Project Name')"
            ]
          },
          "metadata": {},
          "execution_count": 34
        },
        {
          "output_type": "display_data",
          "data": {
            "text/plain": [
              "<Figure size 640x480 with 1 Axes>"
            ],
            "image/png": "[encoded data removed]"
          },
          "metadata": {}
        }
      ]
    },
    {
      "cell_type": "code",
      "source": [
        "# 2. Top 5 Projects by Amount Raised\n",
        "plt.subplot(1, 2, 2)\n",
        "sns.barplot(x=top_amount_raised['usd_pledged'], y=top_amount_raised['name'], palette=\"magma\")\n",
        "plt.title(\"Top 5 Projects by Amount Raised\")\n",
        "plt.xlabel(\"Amount Raised (USD)\")\n",
        "plt.ylabel(\"Project Name\")"
      ],
      "metadata": {
        "colab": {
          "base_uri": "https://localhost:8080/",
          "height": 596
        },
        "id": "xU7cV4YGRjP-",
        "outputId": "ab706f43-1d71-4e94-ecc7-9bea8ff0f538"
      },
      "execution_count": null,
      "outputs": [
        {
          "output_type": "stream",
          "name": "stderr",
          "text": [
            "<ipython-input-35-4bc38d3e7d89>:3: FutureWarning: \n",
            "\n",
            "Passing `palette` without assigning `hue` is deprecated and will be removed in v0.14.0. Assign the `y` variable to `hue` and set `legend=False` for the same effect.\n",
            "\n",
            "  sns.barplot(x=top_amount_raised['usd_pledged'], y=top_amount_raised['name'], palette=\"magma\")\n"
          ]
        },
        {
          "output_type": "execute_result",
          "data": {
            "text/plain": [
              "Text(0, 0.5, 'Project Name')"
            ]
          },
          "metadata": {},
          "execution_count": 35
        },
        {
          "output_type": "display_data",
          "data": {
            "text/plain": [
              "<Figure size 640x480 with 1 Axes>"
            ],
            "image/png": "[encoded data removed]"
          },
          "metadata": {}
        }
      ]
    }
  ]
}